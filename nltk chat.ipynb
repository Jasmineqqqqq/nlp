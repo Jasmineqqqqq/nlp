{
 "cells": [
  {
   "cell_type": "code",
   "execution_count": 1,
   "id": "069a4932",
   "metadata": {},
   "outputs": [],
   "source": [
    "from nltk.chat.util import Chat,reflections"
   ]
  },
  {
   "cell_type": "code",
   "execution_count": 2,
   "id": "ae744293",
   "metadata": {},
   "outputs": [
    {
     "data": {
      "text/plain": [
       "{'i am': 'you are',\n",
       " 'i was': 'you were',\n",
       " 'i': 'you',\n",
       " \"i'm\": 'you are',\n",
       " \"i'd\": 'you would',\n",
       " \"i've\": 'you have',\n",
       " \"i'll\": 'you will',\n",
       " 'my': 'your',\n",
       " 'you are': 'I am',\n",
       " 'you were': 'I was',\n",
       " \"you've\": 'I have',\n",
       " \"you'll\": 'I will',\n",
       " 'your': 'my',\n",
       " 'yours': 'mine',\n",
       " 'you': 'me',\n",
       " 'me': 'you'}"
      ]
     },
     "execution_count": 2,
     "metadata": {},
     "output_type": "execute_result"
    }
   ],
   "source": [
    "# Default reflections. You can create your own reflections\n",
    "reflections\n"
   ]
  },
  {
   "cell_type": "code",
   "execution_count": 3,
   "id": "545b6f76",
   "metadata": {},
   "outputs": [
    {
     "data": {
      "text/plain": [
       "nltk.chat.util.Chat"
      ]
     },
     "execution_count": 3,
     "metadata": {},
     "output_type": "execute_result"
    }
   ],
   "source": [
    "\n",
    "Chat"
   ]
  },
  {
   "cell_type": "code",
   "execution_count": 4,
   "id": "77194704",
   "metadata": {},
   "outputs": [],
   "source": [
    "#Pairs is a list of patterns and responses.\n",
    "pairs = [\n",
    "    [\n",
    "        r\"(.*)my name is (.*)\",\n",
    "        [\"Hello %2, How are you today ?\",]\n",
    "    ],\n",
    "    [\n",
    "        r\"(.*)help(.*) \",\n",
    "        [\"I can help you \",]\n",
    "    ],\n",
    "     [\n",
    "        r\"(.*) your name ?\",\n",
    "        [\"My name is Shankar and I'm a chatbot .\",]\n",
    "    ],\n",
    "    [\n",
    "        r\"how are you (.*) ?\",\n",
    "        [\"I'm doing very well\", \"i am great !\",\"I am very cool!\"]\n",
    "    ],\n",
    "    [\n",
    "        r\"sorry (.*)\",\n",
    "        [\"Its alright\",\"Its OK, never mind that\",]\n",
    "    ],\n",
    "    [\n",
    "        r\"i am (good|well|okay|ok)\",\n",
    "        [\"Nice to hear that\",\"Alright, great !\",]\n",
    "    ],\n",
    "    [\n",
    "        r\"(hi|hey|hello|hola|holla)(.*)\",\n",
    "        [\"Hello\", \"Hey there\",]\n",
    "    ],\n",
    "    [\n",
    "        r\"what (.*) want ?\",\n",
    "        [\"I want to learn Natural Language Processing\",]\n",
    "        \n",
    "    ],\n",
    "    [\n",
    "        r\"(.*)created(.*)\",\n",
    "        [\"Shankar created me using Python's NLTK library \",\"top secret ;)\",]\n",
    "    ],\n",
    "    [\n",
    "        r\"(.*) (location|city) ?\",\n",
    "        ['Bengaluru, India',]\n",
    "    ],\n",
    "    [\n",
    "        r\"(.*) raining in (.*)\",\n",
    "        [\"No rain in the past 4 days here in %2\",\"In %2 there is a 50% chance of rain\",]\n",
    "    ],\n",
    "    [\n",
    "        r\"how (.*) health (.*)\",\n",
    "        [\"Health is very important, but I am a computer, so I don't need to worry about my health \",]\n",
    "    ],\n",
    "    [\n",
    "        r\"(.*)(sports|game|sport)(.*)\",\n",
    "        [\"I'm a very big fan of Football\",]\n",
    "    ],\n",
    "    [\n",
    "        r\"who (.*) (player|striker|forward)?\",\n",
    "        [\"Harry Kane\"]\n",
    "    ],\n",
    "    [\n",
    "        r\"quit\",\n",
    "        [\"Bye for now. See you soon :) \",\"It was nice talking to you. See you soon :)\"]\n",
    "    ],\n",
    "    [\n",
    "        r\"(.*)\",\n",
    "        ['I did not find answer, please visit http://google.com']\n",
    "    ],\n",
    "]\n",
    "\n"
   ]
  },
  {
   "cell_type": "code",
   "execution_count": 5,
   "id": "5ab9107d",
   "metadata": {},
   "outputs": [
    {
     "name": "stdout",
     "output_type": "stream",
     "text": [
      "Hi, I'm Shankar and I like to chat\n",
      "Please type lowercase English language to start a conversation. Type quit to leave \n"
     ]
    }
   ],
   "source": [
    "# default message at the start of chat\n",
    "print(\"Hi, I'm Shankar and I like to chat\\nPlease type lowercase English language to start a conversation. Type quit to leave \")\n",
    "# Create Chat Bot\n",
    "chat = Chat(pairs, reflections)"
   ]
  },
  {
   "cell_type": "code",
   "execution_count": null,
   "id": "99e283ce",
   "metadata": {},
   "outputs": [
    {
     "name": "stdout",
     "output_type": "stream",
     "text": [
      ">hi\n",
      "Hello\n",
      ">who are you\n",
      "Harry Kane\n"
     ]
    }
   ],
   "source": [
    "chat.converse()"
   ]
  },
  {
   "cell_type": "code",
   "execution_count": null,
   "id": "0d4a1f0a",
   "metadata": {},
   "outputs": [],
   "source": []
  }
 ],
 "metadata": {
  "kernelspec": {
   "display_name": "Python 3 (ipykernel)",
   "language": "python",
   "name": "python3"
  },
  "language_info": {
   "codemirror_mode": {
    "name": "ipython",
    "version": 3
   },
   "file_extension": ".py",
   "mimetype": "text/x-python",
   "name": "python",
   "nbconvert_exporter": "python",
   "pygments_lexer": "ipython3",
   "version": "3.9.13"
  }
 },
 "nbformat": 4,
 "nbformat_minor": 5
}
